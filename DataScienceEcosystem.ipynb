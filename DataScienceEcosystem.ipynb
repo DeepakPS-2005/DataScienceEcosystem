{
 "cells": [
  {
   "cell_type": "markdown",
   "id": "103f02bb-d1d4-49b7-b16e-aaf6b009069b",
   "metadata": {},
   "source": [
    "<h1>Data Science Tools and Ecosystem</h1>"
   ]
  },
  {
   "cell_type": "markdown",
   "id": "c8e0e78f-6269-498e-9295-9fd5b0b17088",
   "metadata": {},
   "source": [
    "In this notebook, Data Science Tools and Ecosystem are summarized.\n"
   ]
  },
  {
   "cell_type": "markdown",
   "id": "0743e830-0129-4bf6-a35d-f02eeefefe57",
   "metadata": {},
   "source": [
    "Some of the popular languages that Data Scientists use are:\n",
    "<ol>\n",
    "<li>R</li>\n",
    "<li>Python</li>\n",
    "<li>Java</li></ul></ol>"
   ]
  },
  {
   "cell_type": "markdown",
   "id": "b49675cb-1195-4276-83dc-b4871cd845e7",
   "metadata": {},
   "source": [
    "Some of the commonly used libraries used by Data Scientists include:\n",
    "<ol>\n",
    "<li> Numpy </li>\n",
    "<li> Pandas</li>\n",
    "<li>Scikit-learn</li>\n",
    "<li>Matplotlib</li></ol>"
   ]
  },
  {
   "cell_type": "markdown",
   "id": "f4b7c616-2e27-4a30-96e1-c9c1c12e2792",
   "metadata": {},
   "source": [
    "|Data Science Tools|\n",
    "|------------------|\n",
    "|Visual Studio Code|\n",
    "|Jupyter Notebook|\n",
    "|R studio|"
   ]
  },
  {
   "cell_type": "markdown",
   "id": "1905726d-66ed-4a04-bcae-0251f3df60ce",
   "metadata": {},
   "source": [
    "<h3>Below are a few examples of evaluating arithmetic expressions in Python."
   ]
  },
  {
   "cell_type": "code",
   "execution_count": 12,
   "id": "9b288ab2-6c86-4989-acc9-390a09792b04",
   "metadata": {},
   "outputs": [
    {
     "data": {
      "text/plain": [
       "17"
      ]
     },
     "execution_count": 12,
     "metadata": {},
     "output_type": "execute_result"
    }
   ],
   "source": [
    "#This a simple arithmetic expression to mutiply then add integers\n",
    "(3*4)+5"
   ]
  },
  {
   "cell_type": "code",
   "execution_count": 10,
   "id": "eda4aa73-30f1-4213-962b-3e544f4e42aa",
   "metadata": {},
   "outputs": [
    {
     "name": "stdout",
     "output_type": "stream",
     "text": [
      "3.3333333333333335 hours\n"
     ]
    }
   ],
   "source": [
    "#This will convert 200 minutes to hours by diving by 60\n",
    "a=200 /60\n",
    "print(a,'hours')"
   ]
  },
  {
   "cell_type": "markdown",
   "id": "a2cd7e8c-0ffe-4fd2-a5fc-689efa558786",
   "metadata": {},
   "source": [
    "<b>Objectives:</b><ul>\n",
    "<li>R</li>\n",
    "<li>Python</li>\n",
    "<li>Java</li></ul>"
   ]
  },
  {
   "cell_type": "markdown",
   "id": "50d9d523-a2b8-4d21-a384-182d65c62397",
   "metadata": {},
   "source": [
    "<h2>Author</h2>\n",
    "Deepak P S"
   ]
  },
  {
   "cell_type": "code",
   "execution_count": null,
   "id": "dcd7d633-1c15-4c07-9e8a-672cdd5ce4ad",
   "metadata": {},
   "outputs": [],
   "source": []
  }
 ],
 "metadata": {
  "kernelspec": {
   "display_name": "Python 3 (ipykernel)",
   "language": "python",
   "name": "python3"
  },
  "language_info": {
   "codemirror_mode": {
    "name": "ipython",
    "version": 3
   },
   "file_extension": ".py",
   "mimetype": "text/x-python",
   "name": "python",
   "nbconvert_exporter": "python",
   "pygments_lexer": "ipython3",
   "version": "3.13.2"
  }
 },
 "nbformat": 4,
 "nbformat_minor": 5
}
